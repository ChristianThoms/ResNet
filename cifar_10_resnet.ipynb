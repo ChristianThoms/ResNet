{
  "nbformat": 4,
  "nbformat_minor": 0,
  "metadata": {
    "colab": {
      "name": "cifar-10-resnet.ipynb",
      "version": "0.3.2",
      "provenance": [],
      "toc_visible": true
    },
    "kernelspec": {
      "name": "python3",
      "display_name": "Python 3"
    },
    "accelerator": "GPU"
  },
  "cells": [
    {
      "metadata": {
        "id": "an9vV52VZWKB",
        "colab_type": "code",
        "colab": {}
      },
      "cell_type": "code",
      "source": [
        "import numpy as np\n",
        "import pandas as pd\n",
        "\n",
        "import tensorflow as tf\n",
        "\n",
        "from skimage.io import imread, imshow\n",
        "from pathlib import Path"
      ],
      "execution_count": 0,
      "outputs": []
    },
    {
      "metadata": {
        "id": "vK135PhpZbCV",
        "colab_type": "code",
        "outputId": "8dc4c351-6fe6-4bdf-feee-f6f119617fe4",
        "colab": {
          "base_uri": "https://localhost:8080/",
          "height": 50
        }
      },
      "cell_type": "code",
      "source": [
        "print(tf.VERSION)\n",
        "print(tf.test.is_gpu_available())"
      ],
      "execution_count": 0,
      "outputs": [
        {
          "output_type": "stream",
          "text": [
            "1.12.0\n",
            "True\n"
          ],
          "name": "stdout"
        }
      ]
    },
    {
      "metadata": {
        "id": "FVN3vQYGq-Wd",
        "colab_type": "code",
        "colab": {}
      },
      "cell_type": "code",
      "source": [
        "np.random.seed(42)\n",
        "tf.random.set_random_seed(42)"
      ],
      "execution_count": 0,
      "outputs": []
    },
    {
      "metadata": {
        "id": "g7YFDYIxIH-q",
        "colab_type": "text"
      },
      "cell_type": "markdown",
      "source": [
        "## Download and extract Cifar-10 dataset"
      ]
    },
    {
      "metadata": {
        "id": "-CDY7Em4IOZf",
        "colab_type": "code",
        "colab": {}
      },
      "cell_type": "code",
      "source": [
        "#!wget 'https://www.cs.toronto.edu/~kriz/cifar-10-binary.tar.gz'"
      ],
      "execution_count": 0,
      "outputs": []
    },
    {
      "metadata": {
        "id": "xoacP2VPIahW",
        "colab_type": "code",
        "colab": {}
      },
      "cell_type": "code",
      "source": [
        "#!tar -xvzf cifar-10-binary.tar.gz"
      ],
      "execution_count": 0,
      "outputs": []
    },
    {
      "metadata": {
        "id": "nB01bvbqJuRj",
        "colab_type": "text"
      },
      "cell_type": "markdown",
      "source": [
        "## Define constants"
      ]
    },
    {
      "metadata": {
        "id": "7fRNVg8VJwnv",
        "colab_type": "code",
        "colab": {}
      },
      "cell_type": "code",
      "source": [
        "_HEIGHT = 32\n",
        "_WIDTH = 32\n",
        "_NUM_CHANNELS = 3\n",
        "_DEFAULT_IMAGE_BYTES = _HEIGHT * _WIDTH * _NUM_CHANNELS\n",
        "# The record is the image plus a one-byte label\n",
        "_RECORD_BYTES = _DEFAULT_IMAGE_BYTES + 1\n",
        "_NUM_CLASSES = 10\n",
        "_NUM_DATA_FILES = 5\n",
        "\n",
        "_NUM_IMAGES = {\n",
        "    'train': 50000,\n",
        "    'validation': 10000,\n",
        "}\n",
        "DATASET_NAME = 'CIFAR-10'"
      ],
      "execution_count": 0,
      "outputs": []
    },
    {
      "metadata": {
        "id": "uPR4mOg9KY4Y",
        "colab_type": "text"
      },
      "cell_type": "markdown",
      "source": [
        "## Data Preprocessing"
      ]
    },
    {
      "metadata": {
        "id": "d0gTD-sWKaqY",
        "colab_type": "code",
        "colab": {}
      },
      "cell_type": "code",
      "source": [
        "def get_fnames(train=True):\n",
        "  \"\"\"Returns a list of file paths for either train or test\"\"\"\n",
        "  data_path = Path('.') / 'cifar-10-batches-bin'\n",
        "  if train:\n",
        "    return [str(f) for f in sorted(list(data_path.glob('data*.bin')))]\n",
        "  else:\n",
        "    return [str(data_path / 'test_batch.bin')]"
      ],
      "execution_count": 0,
      "outputs": []
    },
    {
      "metadata": {
        "id": "LHja1vtnK_z9",
        "colab_type": "code",
        "colab": {}
      },
      "cell_type": "code",
      "source": [
        "def parse_record(raw_record, is_training, dtype):\n",
        "  \"\"\"Parse CIFAR-10 image and label from a raw record.\"\"\"\n",
        "  # Convert bytes to a vector of uint8 that is record_bytes long.\n",
        "  record_vector = tf.decode_raw(raw_record, tf.uint8)\n",
        "\n",
        "  # The first byte represents the label, which we convert from uint8 to int32 and then to one-hot.\n",
        "  label = tf.cast(record_vector[0], tf.int32)\n",
        "\n",
        "  # The remaining bytes after the label represent the image, which we reshape from [depth * height * width] to [depth, height, width].\n",
        "  depth_major = tf.reshape(record_vector[1:_RECORD_BYTES], [_NUM_CHANNELS, _HEIGHT, _WIDTH])\n",
        "\n",
        "  # Convert from [depth, height, width] to [height, width, depth], and cast as float32.\n",
        "  image = tf.cast(tf.transpose(depth_major, [1, 2, 0]), tf.float32)\n",
        "\n",
        "  image = preprocess_image(image, is_training)\n",
        "  image = tf.cast(image, dtype)\n",
        "  return image, label"
      ],
      "execution_count": 0,
      "outputs": []
    },
    {
      "metadata": {
        "id": "DxdgcbiMOBjO",
        "colab_type": "code",
        "colab": {}
      },
      "cell_type": "code",
      "source": [
        "def preprocess_image(image, is_training):\n",
        "  \"\"\"Preprocess a single image of layout [height, width, depth].\"\"\"\n",
        "  if is_training:\n",
        "    # Resize the image to add four extra pixels on each side.\n",
        "    image = tf.image.resize_image_with_crop_or_pad(image, _HEIGHT + 8, _WIDTH + 8)\n",
        "\n",
        "    # Randomly crop a [_HEIGHT, _WIDTH] section of the image.\n",
        "    image = tf.random_crop(image, [_HEIGHT, _WIDTH, _NUM_CHANNELS])\n",
        "\n",
        "    # Randomly flip the image horizontally.\n",
        "    image = tf.image.random_flip_left_right(image)\n",
        "\n",
        "  # Subtract off the mean and divide by the variance of the pixels.\n",
        "  image = tf.image.per_image_standardization(image)\n",
        "  return image"
      ],
      "execution_count": 0,
      "outputs": []
    },
    {
      "metadata": {
        "id": "Od8y6-4ASLa2",
        "colab_type": "code",
        "colab": {}
      },
      "cell_type": "code",
      "source": [
        "def process_record_dataset(dataset, is_train, batch_size, shuffle_buffer, num_epochs=1, dtype=tf.float32,\n",
        "                           datasets_num_private_threads=None, num_parallel_batches=1):\n",
        "  dataset = dataset.prefetch(buffer_size=batch_size)\n",
        "  if is_train:\n",
        "    dataset= dataset.shuffle(buffer_size=_NUM_IMAGES['train'])\n",
        "  dataset = dataset.repeat(num_epochs)\n",
        "  dataset = dataset.apply(\n",
        "      tf.contrib.data.map_and_batch(\n",
        "        lambda value: parse_record(value, is_train, dtype),\n",
        "        batch_size=batch_size,\n",
        "        num_parallel_batches=num_parallel_batches,\n",
        "        drop_remainder=False))\n",
        "  dataset = dataset.prefetch(buffer_size=tf.contrib.data.AUTOTUNE)\n",
        "  \n",
        "  if datasets_num_private_threads:\n",
        "    tf.logging.info('datasets_num_private_threads: %s',\n",
        "                    datasets_num_private_threads)\n",
        "    dataset = threadpool.override_threadpool(\n",
        "        dataset,\n",
        "        threadpool.PrivateThreadPool(\n",
        "            datasets_num_private_threads,\n",
        "            display_name='input_pipeline_thread_pool'))\n",
        "\n",
        "  return dataset"
      ],
      "execution_count": 0,
      "outputs": []
    },
    {
      "metadata": {
        "id": "D4ekgl2EVxMX",
        "colab_type": "code",
        "colab": {}
      },
      "cell_type": "code",
      "source": [
        "fnames_train = get_fnames(train=True)\n",
        "dataset_train = tf.data.FixedLengthRecordDataset(fnames_train, _RECORD_BYTES)\n",
        "\n",
        "fnames_test = get_fnames(train=False)\n",
        "dataset_test = tf.data.FixedLengthRecordDataset(fnames_test, _RECORD_BYTES)"
      ],
      "execution_count": 0,
      "outputs": []
    },
    {
      "metadata": {
        "id": "PwOuq63uZ7TQ",
        "colab_type": "text"
      },
      "cell_type": "markdown",
      "source": [
        "## Model"
      ]
    },
    {
      "metadata": {
        "id": "GB3v6DMgZOKV",
        "colab_type": "code",
        "colab": {}
      },
      "cell_type": "code",
      "source": [
        ""
      ],
      "execution_count": 0,
      "outputs": []
    }
  ]
}